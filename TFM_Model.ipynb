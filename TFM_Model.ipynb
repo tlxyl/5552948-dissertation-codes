{
  "nbformat": 4,
  "nbformat_minor": 0,
  "metadata": {
    "colab": {
      "provenance": []
    },
    "kernelspec": {
      "name": "python3",
      "display_name": "Python 3"
    },
    "language_info": {
      "name": "python"
    }
  },
  "cells": [
    {
      "cell_type": "code",
      "execution_count": null,
      "metadata": {
        "colab": {
          "base_uri": "https://localhost:8080/"
        },
        "id": "W_dRm1eUVN8K",
        "outputId": "558c0f96-9a1f-4788-e6fe-09b24aa3d095"
      },
      "outputs": [
        {
          "output_type": "stream",
          "name": "stdout",
          "text": [
            "Collecting scikit-learn-extra\n",
            "  Downloading scikit_learn_extra-0.3.0-cp310-cp310-manylinux_2_17_x86_64.manylinux2014_x86_64.whl.metadata (3.6 kB)\n",
            "Requirement already satisfied: numpy>=1.13.3 in /usr/local/lib/python3.10/dist-packages (from scikit-learn-extra) (1.26.4)\n",
            "Requirement already satisfied: scipy>=0.19.1 in /usr/local/lib/python3.10/dist-packages (from scikit-learn-extra) (1.13.1)\n",
            "Requirement already satisfied: scikit-learn>=0.23.0 in /usr/local/lib/python3.10/dist-packages (from scikit-learn-extra) (1.3.2)\n",
            "Requirement already satisfied: joblib>=1.1.1 in /usr/local/lib/python3.10/dist-packages (from scikit-learn>=0.23.0->scikit-learn-extra) (1.4.2)\n",
            "Requirement already satisfied: threadpoolctl>=2.0.0 in /usr/local/lib/python3.10/dist-packages (from scikit-learn>=0.23.0->scikit-learn-extra) (3.5.0)\n",
            "Downloading scikit_learn_extra-0.3.0-cp310-cp310-manylinux_2_17_x86_64.manylinux2014_x86_64.whl (2.0 MB)\n",
            "\u001b[2K   \u001b[90m━━━━━━━━━━━━━━━━━━━━━━━━━━━━━━━━━━━━━━━━\u001b[0m \u001b[32m2.0/2.0 MB\u001b[0m \u001b[31m14.3 MB/s\u001b[0m eta \u001b[36m0:00:00\u001b[0m\n",
            "\u001b[?25hInstalling collected packages: scikit-learn-extra\n",
            "Successfully installed scikit-learn-extra-0.3.0\n",
            "Collecting scikit-fuzzy\n",
            "  Downloading scikit-fuzzy-0.4.2.tar.gz (993 kB)\n",
            "\u001b[2K     \u001b[90m━━━━━━━━━━━━━━━━━━━━━━━━━━━━━━━━━━━━━━━━\u001b[0m \u001b[32m994.0/994.0 kB\u001b[0m \u001b[31m11.8 MB/s\u001b[0m eta \u001b[36m0:00:00\u001b[0m\n",
            "\u001b[?25h  Preparing metadata (setup.py) ... \u001b[?25l\u001b[?25hdone\n",
            "Requirement already satisfied: numpy>=1.6.0 in /usr/local/lib/python3.10/dist-packages (from scikit-fuzzy) (1.26.4)\n",
            "Requirement already satisfied: scipy>=0.9.0 in /usr/local/lib/python3.10/dist-packages (from scikit-fuzzy) (1.13.1)\n",
            "Requirement already satisfied: networkx>=1.9.0 in /usr/local/lib/python3.10/dist-packages (from scikit-fuzzy) (3.3)\n",
            "Building wheels for collected packages: scikit-fuzzy\n",
            "  Building wheel for scikit-fuzzy (setup.py) ... \u001b[?25l\u001b[?25hdone\n",
            "  Created wheel for scikit-fuzzy: filename=scikit_fuzzy-0.4.2-py3-none-any.whl size=894075 sha256=b1e8b758ccc8a86c8f63e0e2588bcd5fb59e44f34a40908b40a44f30785d46a7\n",
            "  Stored in directory: /root/.cache/pip/wheels/4f/86/1b/dfd97134a2c8313e519bcebd95d3fedc7be7944db022094bc8\n",
            "Successfully built scikit-fuzzy\n",
            "Installing collected packages: scikit-fuzzy\n",
            "Successfully installed scikit-fuzzy-0.4.2\n"
          ]
        }
      ],
      "source": [
        "import pandas as pd\n",
        "from sklearn.cluster import KMeans\n",
        "\n",
        "\n",
        "!pip install scikit-learn-extra\n",
        "from sklearn_extra.cluster import KMedoids\n",
        "\n",
        "from sklearn.cluster import AgglomerativeClustering\n",
        "!pip install scikit-fuzzy\n",
        "import numpy as np\n",
        "import skfuzzy as fuzz\n",
        "from sklearn.metrics import silhouette_score"
      ]
    },
    {
      "cell_type": "code",
      "source": [
        "# Load the data\n",
        "file_path = 'RFMT.csv'\n",
        "data = pd.read_csv(file_path)\n",
        "\n",
        "\n",
        "\n",
        "# Select R, F, M columns for clustering\n",
        "tfm_data = data[['T_Score', 'F_Score', 'M_Score']]"
      ],
      "metadata": {
        "id": "fLFST8B5VSip"
      },
      "execution_count": null,
      "outputs": []
    },
    {
      "cell_type": "code",
      "source": [
        "# Apply K-means clustering with k = 4\n",
        "kmeans = KMeans(init=\"random\",\n",
        "                n_clusters=4,\n",
        "                n_init=10,\n",
        "                max_iter=300,\n",
        "                random_state=42)\n",
        "kmeans_clusters = kmeans.fit_predict(tfm_data)"
      ],
      "metadata": {
        "id": "vB62XNbBViCs"
      },
      "execution_count": null,
      "outputs": []
    },
    {
      "cell_type": "code",
      "source": [
        "# Apply K-medoid clustering\n",
        "kmedoids_pam = KMedoids(n_clusters=4, method='pam', random_state=42)\n",
        "kmedoids_pam_clusters = kmedoids_pam.fit_predict(tfm_data)"
      ],
      "metadata": {
        "id": "91xnTZ5NVlv7"
      },
      "execution_count": null,
      "outputs": []
    },
    {
      "cell_type": "code",
      "source": [
        "# Apply HAC\n",
        "agg_clustering = AgglomerativeClustering(n_clusters=4, affinity='euclidean', linkage='ward')\n",
        "agg_clusters = agg_clustering.fit_predict(tfm_data)"
      ],
      "metadata": {
        "colab": {
          "base_uri": "https://localhost:8080/"
        },
        "id": "v3oBfpUUVpTB",
        "outputId": "8939d7e0-0011-4d90-e8e8-7900df488874"
      },
      "execution_count": null,
      "outputs": [
        {
          "output_type": "stream",
          "name": "stderr",
          "text": [
            "/usr/local/lib/python3.10/dist-packages/sklearn/cluster/_agglomerative.py:1006: FutureWarning: Attribute `affinity` was deprecated in version 1.2 and will be removed in 1.4. Use `metric` instead\n",
            "  warnings.warn(\n"
          ]
        }
      ]
    },
    {
      "cell_type": "code",
      "source": [
        "# Apply fuzzy c means clustering\n",
        "tfm_data_T = tfm_data.values.T\n",
        "cntr, u, u0, d, jm, p, fpc = fuzz.cluster.cmeans(\n",
        "    tfm_data_T, 4, 2, error=0.005, maxiter=1000, init=None)\n",
        "fuzzy_cluster_labels = np.argmax(u, axis=0)"
      ],
      "metadata": {
        "id": "AsMxdESMVroJ"
      },
      "execution_count": null,
      "outputs": []
    },
    {
      "cell_type": "code",
      "source": [
        "# compute average silhouette_score\n",
        "agg_silhouette_avg = silhouette_score(tfm_data, agg_clusters)\n",
        "print(f'agg_Silhouette Score: {agg_silhouette_avg:.3f}')\n",
        "kmedoids_pam_silhouette_avg = silhouette_score(tfm_data, kmedoids_pam_clusters)\n",
        "print(f'kmedoids_pam_Silhouette Score: {kmedoids_pam_silhouette_avg:.3f}')\n",
        "kmeans_silhouette_avg = silhouette_score(tfm_data, kmeans_clusters)\n",
        "print(f'kmeans_Silhouette Score: {kmeans_silhouette_avg:.3f}')\n",
        "fuzzy_silhouette_avg = silhouette_score(tfm_data_T.T, fuzzy_cluster_labels)\n",
        "print(f'fuzzy_Silhouette Score: {fuzzy_silhouette_avg:.3f}')"
      ],
      "metadata": {
        "colab": {
          "base_uri": "https://localhost:8080/"
        },
        "id": "3FehfN-6VuPB",
        "outputId": "2f4310c9-631f-4326-9c8b-e7cc9995a2bd"
      },
      "execution_count": null,
      "outputs": [
        {
          "output_type": "stream",
          "name": "stdout",
          "text": [
            "agg_Silhouette Score: 0.277\n",
            "kmedoids_pam_Silhouette Score: 0.246\n",
            "kmeans_Silhouette Score: 0.308\n",
            "fuzzy_Silhouette Score: 0.318\n"
          ]
        }
      ]
    }
  ]
}